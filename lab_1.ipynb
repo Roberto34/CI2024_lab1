{
 "cells": [
  {
   "cell_type": "markdown",
   "metadata": {},
   "source": [
    "Copyright **`(c)`** 2024 Giovanni Squillero `<giovanni.squillero@polito.it>`  \n",
    "[`https://github.com/squillero/computational-intelligence`](https://github.com/squillero/computational-intelligence)  \n",
    "Free for personal or classroom use; see [`LICENSE.md`](https://github.com/squillero/computational-intelligence/blob/master/LICENSE.md) for details.  "
   ]
  },
  {
   "cell_type": "markdown",
   "metadata": {},
   "source": [
    "# Set Cover problem\n",
    "\n",
    "See: https://en.wikipedia.org/wiki/Set_cover_problem"
   ]
  },
  {
   "cell_type": "code",
   "metadata": {
    "ExecuteTime": {
     "end_time": "2024-10-06T20:42:33.718645Z",
     "start_time": "2024-10-06T20:42:33.701443Z"
    }
   },
   "source": [
    "from random import random, seed\n",
    "from itertools import product, accumulate\n",
    "import numpy as np\n",
    "import matplotlib.pyplot as plt\n",
    "\n",
    "from icecream import ic\n",
    "from tqdm import tqdm"
   ],
   "outputs": [],
   "execution_count": 25
  },
  {
   "cell_type": "markdown",
   "metadata": {},
   "source": [
    "## Reproducible Initialization\n",
    "\n",
    "If you want to get reproducible results, use `rng` (and restart the kernel); for non-reproducible ones, use `np.random`."
   ]
  },
  {
   "cell_type": "code",
   "metadata": {
    "ExecuteTime": {
     "end_time": "2024-10-06T20:42:33.766812Z",
     "start_time": "2024-10-06T20:42:33.730164Z"
    }
   },
   "source": [
    "UNIVERSE_SIZE = 100\n",
    "NUM_SETS = 10\n",
    "DENSITY = 0.2\n",
    "\n",
    "rng = np.random.Generator(np.random.PCG64([UNIVERSE_SIZE, NUM_SETS, int(10_000 * DENSITY)]))"
   ],
   "outputs": [],
   "execution_count": 26
  },
  {
   "cell_type": "code",
   "metadata": {
    "ExecuteTime": {
     "end_time": "2024-10-06T20:42:33.843658Z",
     "start_time": "2024-10-06T20:42:33.801387Z"
    }
   },
   "source": [
    "# DON'T EDIT THESE LINES!\n",
    "\n",
    "SETS = np.random.random((NUM_SETS, UNIVERSE_SIZE)) < DENSITY\n",
    "for s in range(UNIVERSE_SIZE):\n",
    "    if not np.any(SETS[:, s]):\n",
    "        SETS[np.random.randint(NUM_SETS), s] = True\n",
    "COSTS = np.pow(SETS.sum(axis=1), 1.1)"
   ],
   "outputs": [],
   "execution_count": 27
  },
  {
   "cell_type": "markdown",
   "metadata": {},
   "source": [
    "## Helper Functions"
   ]
  },
  {
   "cell_type": "code",
   "metadata": {
    "ExecuteTime": {
     "end_time": "2024-10-06T20:42:33.895632Z",
     "start_time": "2024-10-06T20:42:33.870503Z"
    }
   },
   "source": [
    "def valid(solution):\n",
    "    \"\"\"Checks wether solution is valid (ie. covers all universe)\"\"\"\n",
    "    return np.all(np.logical_or.reduce(SETS[solution]))\n",
    "\n",
    "\n",
    "def cost(solution):\n",
    "    \"\"\"Returns the cost of a solution (to be minimized)\"\"\"\n",
    "    return COSTS[solution].sum()"
   ],
   "outputs": [],
   "execution_count": 28
  },
  {
   "cell_type": "markdown",
   "metadata": {},
   "source": [
    "## Have Fun!"
   ]
  },
  {
   "cell_type": "code",
   "metadata": {
    "ExecuteTime": {
     "end_time": "2024-10-06T20:42:34.039129Z",
     "start_time": "2024-10-06T20:42:33.964071Z"
    }
   },
   "source": [
    "# A dumb solution of \"all\" sets\n",
    "solution = np.full(NUM_SETS, True)\n",
    "valid(solution), cost(solution)"
   ],
   "outputs": [
    {
     "data": {
      "text/plain": [
       "(np.True_, np.float64(258.4309517988287))"
      ]
     },
     "execution_count": 29,
     "metadata": {},
     "output_type": "execute_result"
    }
   ],
   "execution_count": 29
  },
  {
   "cell_type": "code",
   "metadata": {
    "ExecuteTime": {
     "end_time": "2024-10-06T20:42:34.172237Z",
     "start_time": "2024-10-06T20:42:34.135718Z"
    }
   },
   "source": [
    "# A random solution with random 50% of the sets\n",
    "solution = rng.random(NUM_SETS) < .5\n",
    "valid(solution), cost(solution)"
   ],
   "outputs": [
    {
     "data": {
      "text/plain": [
       "(np.False_, np.float64(123.4085136909273))"
      ]
     },
     "execution_count": 30,
     "metadata": {},
     "output_type": "execute_result"
    }
   ],
   "execution_count": 30
  },
  {
   "metadata": {},
   "cell_type": "markdown",
   "source": [
    "## Initial Heuristics considerations\n",
    "\n",
    "If an element is present in one set only, that set must be included in the solution"
   ]
  },
  {
   "metadata": {
    "ExecuteTime": {
     "end_time": "2024-10-06T20:42:34.334465Z",
     "start_time": "2024-10-06T20:42:34.311622Z"
    }
   },
   "cell_type": "code",
   "source": [
    "# Initializes a solution that does not include any set.\n",
    "initial_solution = np.full(NUM_SETS, False)\n",
    "\n",
    "# For each element in the universe, if there is only one set that includes\n",
    "# that element, adds that set to the initial solution.\n",
    "for s in range(UNIVERSE_SIZE):\n",
    "    if np.count_nonzero(SETS[:, s]) > 1:\n",
    "        continue\n",
    "    \n",
    "    set_idx = np.argwhere(SETS[:, s] == True)\n",
    "    solution[set_idx] = True\n",
    "\n",
    "# Saves the initial solution (containing only the mandatory sets)\n",
    "mandatory_sets = initial_solution"
   ],
   "outputs": [],
   "execution_count": 31
  },
  {
   "metadata": {},
   "cell_type": "markdown",
   "source": [
    "## Random Mutation Hill Climber\n",
    "\n",
    "We run a RMHC algorithm, preserving the mandatory sets.\n",
    "\n",
    "To evaluate the fitness, we check the number of elements included in the solution and the cost of the solution (in order)."
   ]
  },
  {
   "metadata": {
    "ExecuteTime": {
     "end_time": "2024-10-06T20:42:35.066432Z",
     "start_time": "2024-10-06T20:42:34.392056Z"
    }
   },
   "cell_type": "code",
   "source": [
    "# The number of iterations the algorithm will perform.\n",
    "NUM_STEPS = 100\n",
    "\n",
    "# The function used to tweak a solution.\n",
    "def tweak(intermediate_solution):\n",
    "    # Check for sets that can be changed.\n",
    "    # If no set can be changed (i.e. all sets are mandatory), return the unchanged solution.\n",
    "    non_mandatory_indexes = np.argwhere(mandatory_sets == False)\n",
    "    if non_mandatory_indexes.size == 0:\n",
    "        return intermediate_solution\n",
    "\n",
    "    indexes_to_change = non_mandatory_indexes\n",
    "\n",
    "    if not np.all(intermediate_solution):\n",
    "        # Retrieves the indexes of the sets that are yet to be added to the solution.\n",
    "        indexes_to_change = np.argwhere(intermediate_solution == False)\n",
    "\n",
    "    # Adds a number of sets to the solution, with a probability of adding a new\n",
    "    # set decreasing with the number of sets already added in the same step.\n",
    "    index = None\n",
    "    while index is None or rng.random() < 0.4:\n",
    "        index = rng.choice(indexes_to_change)\n",
    "        intermediate_solution[index] = True\n",
    "\n",
    "    return intermediate_solution\n",
    "\n",
    "# The function used to evaluate the fitness of a solution.\n",
    "def fitness(intermediate_solution):\n",
    "    c = cost(intermediate_solution)\n",
    "\n",
    "    return np.count_nonzero(np.count_nonzero(SETS[intermediate_solution], axis=0)), -c\n",
    "\n",
    "# Initializes the solution to be improved\n",
    "solution = initial_solution\n",
    "# Initializes a list containing the history of fitness of\n",
    "# the intermediate solutions\n",
    "history = [fitness(solution)]\n",
    "\n",
    "# Applies the Hill Climber algorithm\n",
    "for i in (range(NUM_STEPS)):\n",
    "    new_solution = tweak(solution.copy())\n",
    "    history.append(fitness(new_solution))\n",
    "\n",
    "    if fitness(new_solution) > fitness(solution):\n",
    "        solution = new_solution\n",
    "\n",
    "# Plots the history of fitness of the intermediate solutions.\n",
    "plt.figure(figsize=(14,8))\n",
    "plt.plot(range(len(history)), list(accumulate(history, max)))\n",
    "plt.show()\n",
    "\n",
    "solution, (fitness(solution)), history.index(fitness(solution))"
   ],
   "outputs": [
    {
     "data": {
      "text/plain": [
       "<Figure size 1400x800 with 1 Axes>"
      ],
      "image/png": "[encoded data removed]"
     },
     "metadata": {},
     "output_type": "display_data"
    },
    {
     "data": {
      "text/plain": [
       "(array([ True,  True,  True,  True,  True,  True,  True,  True,  True,\n",
       "         True]),\n",
       " (100, np.float64(-258.4309517988287)),\n",
       " 7)"
      ]
     },
     "execution_count": 32,
     "metadata": {},
     "output_type": "execute_result"
    }
   ],
   "execution_count": 32
  }
 ],
 "metadata": {
  "kernelspec": {
   "display_name": "Python 3 (ipykernel)",
   "language": "python",
   "name": "python3"
  },
  "language_info": {
   "codemirror_mode": {
    "name": "ipython",
    "version": 3
   },
   "file_extension": ".py",
   "mimetype": "text/x-python",
   "name": "python",
   "nbconvert_exporter": "python",
   "pygments_lexer": "ipython3",
   "version": "3.12.5"
  }
 },
 "nbformat": 4,
 "nbformat_minor": 4
}
