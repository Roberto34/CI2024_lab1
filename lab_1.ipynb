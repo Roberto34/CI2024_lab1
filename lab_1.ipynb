{
 "cells": [
  {
   "cell_type": "markdown",
   "metadata": {},
   "source": [
    "Copyright **`(c)`** 2024 Giovanni Squillero `<giovanni.squillero@polito.it>`  \n",
    "[`https://github.com/squillero/computational-intelligence`](https://github.com/squillero/computational-intelligence)  \n",
    "Free for personal or classroom use; see [`LICENSE.md`](https://github.com/squillero/computational-intelligence/blob/master/LICENSE.md) for details.  "
   ]
  },
  {
   "cell_type": "markdown",
   "metadata": {},
   "source": [
    "# Set Cover problem\n",
    "\n",
    "See: https://en.wikipedia.org/wiki/Set_cover_problem"
   ]
  },
  {
   "cell_type": "code",
   "metadata": {
    "ExecuteTime": {
     "end_time": "2024-10-08T17:44:19.466515Z",
     "start_time": "2024-10-08T17:44:19.462516Z"
    }
   },
   "source": [
    "from random import random, seed\n",
    "from itertools import product, accumulate\n",
    "import numpy as np\n",
    "import matplotlib.pyplot as plt\n",
    "\n",
    "from icecream import ic\n",
    "from tqdm import tqdm"
   ],
   "outputs": [],
   "execution_count": 340
  },
  {
   "cell_type": "markdown",
   "metadata": {},
   "source": [
    "## Reproducible Initialization\n",
    "\n",
    "If you want to get reproducible results, use `rng` (and restart the kernel); for non-reproducible ones, use `np.random`."
   ]
  },
  {
   "metadata": {
    "ExecuteTime": {
     "end_time": "2024-10-08T17:44:19.484176Z",
     "start_time": "2024-10-08T17:44:19.471703Z"
    }
   },
   "cell_type": "code",
   "source": [
    "UNIVERSE_SIZE = 100000\n",
    "NUM_SETS = 1000\n",
    "DENSITY = 0.2\n",
    "\n",
    "rng = np.random.Generator(np.random.PCG64([UNIVERSE_SIZE, NUM_SETS, int(10_000 * DENSITY)]))"
   ],
   "outputs": [],
   "execution_count": 341
  },
  {
   "metadata": {
    "ExecuteTime": {
     "end_time": "2024-10-08T17:44:20.805902Z",
     "start_time": "2024-10-08T17:44:19.496118Z"
    }
   },
   "cell_type": "code",
   "source": [
    "# DON'T EDIT THESE LINES!\n",
    "\n",
    "SETS = np.random.random((NUM_SETS, UNIVERSE_SIZE)) < DENSITY\n",
    "for s in range(UNIVERSE_SIZE):\n",
    "    if not np.any(SETS[:, s]):\n",
    "        SETS[np.random.randint(NUM_SETS), s] = True\n",
    "COSTS = np.pow(SETS.sum(axis=1), 1.1)"
   ],
   "outputs": [],
   "execution_count": 342
  },
  {
   "cell_type": "markdown",
   "metadata": {},
   "source": [
    "## Helper Functions"
   ]
  },
  {
   "cell_type": "code",
   "metadata": {
    "ExecuteTime": {
     "end_time": "2024-10-08T17:44:20.823710Z",
     "start_time": "2024-10-08T17:44:20.817787Z"
    }
   },
   "source": [
    "def valid(solution):\n",
    "    \"\"\"Checks wether solution is valid (ie. covers all universe)\"\"\"\n",
    "    return np.all(np.logical_or.reduce(SETS[solution]))\n",
    "\n",
    "\n",
    "def cost(solution):\n",
    "    \"\"\"Returns the cost of a solution (to be minimized)\"\"\"\n",
    "    return COSTS[solution].sum()"
   ],
   "outputs": [],
   "execution_count": 343
  },
  {
   "cell_type": "markdown",
   "metadata": {},
   "source": [
    "## Have Fun!"
   ]
  },
  {
   "cell_type": "code",
   "metadata": {
    "ExecuteTime": {
     "end_time": "2024-10-08T17:44:20.879950Z",
     "start_time": "2024-10-08T17:44:20.836471Z"
    }
   },
   "source": [
    "# A dumb solution of \"all\" sets\n",
    "solution = np.full(NUM_SETS, True)\n",
    "valid(solution), cost(solution)"
   ],
   "outputs": [
    {
     "data": {
      "text/plain": [
       "(np.True_, np.float64(53835972.66991775))"
      ]
     },
     "execution_count": 344,
     "metadata": {},
     "output_type": "execute_result"
    }
   ],
   "execution_count": 344
  },
  {
   "cell_type": "code",
   "metadata": {
    "ExecuteTime": {
     "end_time": "2024-10-08T17:44:20.919293Z",
     "start_time": "2024-10-08T17:44:20.890317Z"
    }
   },
   "source": [
    "# A random solution with random 50% of the sets\n",
    "solution = rng.random(NUM_SETS) < .5\n",
    "valid(solution), cost(solution)"
   ],
   "outputs": [
    {
     "data": {
      "text/plain": [
       "(np.True_, np.float64(26545022.225954913))"
      ]
     },
     "execution_count": 345,
     "metadata": {},
     "output_type": "execute_result"
    }
   ],
   "execution_count": 345
  },
  {
   "metadata": {},
   "cell_type": "markdown",
   "source": [
    "## Initial Heuristics considerations\n",
    "\n",
    "If an element is present in one set only, that set must be included in the solution"
   ]
  },
  {
   "metadata": {
    "ExecuteTime": {
     "end_time": "2024-10-08T17:44:21.138035Z",
     "start_time": "2024-10-08T17:44:20.929807Z"
    }
   },
   "cell_type": "code",
   "source": [
    "# Initializes a solution that does not include any set.\n",
    "initial_solution = np.full(NUM_SETS, False)\n",
    "\n",
    "# For each element in the universe, if there is only one set that includes\n",
    "# that element, adds that set to the initial solution.\n",
    "for s in range(UNIVERSE_SIZE):\n",
    "    if np.count_nonzero(SETS[:, s]) > 1:\n",
    "        continue\n",
    "    \n",
    "    set_idx = np.argwhere(SETS[:, s] == True)\n",
    "    solution[set_idx] = True\n",
    "\n",
    "# Saves the initial solution (containing only the mandatory sets)\n",
    "mandatory_sets = initial_solution"
   ],
   "outputs": [],
   "execution_count": 346
  },
  {
   "metadata": {},
   "cell_type": "markdown",
   "source": [
    "## Random Mutation Hill Climber\n",
    "\n",
    "We run a RMHC algorithm, preserving the mandatory sets.\n",
    "\n",
    "To evaluate the fitness, we check the number of elements included in the solution and the cost of the solution (in order)."
   ]
  },
  {
   "metadata": {
    "ExecuteTime": {
     "end_time": "2024-10-08T17:47:26.724660Z",
     "start_time": "2024-10-08T17:44:21.148432Z"
    }
   },
   "cell_type": "code",
   "source": [
    "# The number of iterations the algorithm will perform.\n",
    "NUM_STEPS = 10000\n",
    "\n",
    "# The function used to tweak a solution.\n",
    "def tweak(intermediate_solution):\n",
    "    # Check for sets that can be changed.\n",
    "    # If no set can be changed (i.e. all sets are mandatory), return the unchanged solution.\n",
    "    non_mandatory_indexes = np.argwhere(mandatory_sets == False)\n",
    "    if non_mandatory_indexes.size == 0:\n",
    "        return intermediate_solution\n",
    "\n",
    "    # Changes a number of sets to the solution, with a (small) probability of changing a new\n",
    "    # set decreasing with the number of sets already changed in the same step.\n",
    "    # If the solution is already a valid one, starts excluding sets to reduce the cost.\n",
    "    index = None\n",
    "    while index is None or rng.random() < 0.3:\n",
    "        index = rng.choice(non_mandatory_indexes)\n",
    "        intermediate_solution[index] = not valid(intermediate_solution)\n",
    "        \n",
    "    return intermediate_solution\n",
    "\n",
    "# The function used to evaluate the fitness of a solution.\n",
    "def fitness(intermediate_solution):\n",
    "    intermediate_solution_cost = cost(intermediate_solution)\n",
    "    intermediate_solution_coverage = np.count_nonzero(np.count_nonzero(SETS[intermediate_solution], axis=0))\n",
    "    \n",
    "    return intermediate_solution_coverage, -intermediate_solution_cost\n",
    "\n",
    "# Initializes the solution to be improved\n",
    "current_solution = initial_solution\n",
    "# Initializes a list containing the history of fitness of\n",
    "# the intermediate solutions\n",
    "history = [fitness(current_solution)]\n",
    "\n",
    "# Applies the Hill Climber algorithm\n",
    "for step in tqdm(range(NUM_STEPS)):\n",
    "    new_solution = tweak(current_solution.copy())\n",
    "    history.append(fitness(new_solution))\n",
    "\n",
    "    if fitness(new_solution) > fitness(current_solution):\n",
    "        current_solution = new_solution\n",
    "        \n",
    "# Plots the history of fitness of the intermediate solutions.\n",
    "plt.figure(figsize=(14,8))\n",
    "plt.plot(range(len(history)), list(accumulate(history, max)))\n",
    "plt.plot(range(len(history)), history)\n",
    "plt.show()\n",
    "\n",
    "fitness(current_solution)"
   ],
   "outputs": [
    {
     "name": "stderr",
     "output_type": "stream",
     "text": [
      "100%|██████████| 10000/10000 [03:05<00:00, 53.95it/s]\n"
     ]
    },
    {
     "data": {
      "text/plain": [
       "<Figure size 1400x800 with 1 Axes>"
      ],
      "image/png": "[encoded data removed]"
     },
     "metadata": {},
     "output_type": "display_data"
    },
    {
     "data": {
      "text/plain": [
       "(100000, np.float64(-2206252.1803228525))"
      ]
     },
     "execution_count": 347,
     "metadata": {},
     "output_type": "execute_result"
    }
   ],
   "execution_count": 347
  },
  {
   "metadata": {},
   "cell_type": "markdown",
   "source": [
    "## RMHC with reset on best fitness plateau\n",
    "\n",
    "If the best solution has not changed in a while, resets the solution to the initial solution (i.e. the one containing only the mandatory sets).\n",
    "It also increases the probability of changing a larger number of sets in a single tweak (exploration)."
   ]
  },
  {
   "metadata": {
    "ExecuteTime": {
     "end_time": "2024-10-08T17:48:22.881926Z",
     "start_time": "2024-10-08T17:47:26.829798Z"
    }
   },
   "cell_type": "code",
   "source": [
    "# The number of iterations the algorithm will perform.\n",
    "NUM_STEPS = 10000\n",
    "\n",
    "\n",
    "# The function used to tweak a solution.\n",
    "def tweak(intermediate_solution):\n",
    "    # Check for sets that can be changed.\n",
    "    # If no set can be changed (i.e. all sets are mandatory), return the unchanged solution.\n",
    "    non_mandatory_indexes = np.argwhere(mandatory_sets == False)\n",
    "    if non_mandatory_indexes.size == 0:\n",
    "        return intermediate_solution\n",
    "\n",
    "    # Changes a number of sets to the solution, with a probability of changing a new\n",
    "    # set decreasing with the number of sets already changed in the same step.\n",
    "    # If the solution is already a valid one, starts excluding  sets to reduce the cost.\n",
    "    index = None\n",
    "    while index is None or rng.random() < 0.3 + len(solutions) / 25000:\n",
    "        index = rng.choice(non_mandatory_indexes)\n",
    "        intermediate_solution[index] = not valid(intermediate_solution)\n",
    "\n",
    "    return intermediate_solution\n",
    "\n",
    "\n",
    "# The function used to evaluate the fitness of a solution.\n",
    "def fitness(intermediate_solution):\n",
    "    intermediate_solution_cost = cost(intermediate_solution)\n",
    "    intermediate_solution_coverage = np.count_nonzero(np.count_nonzero(SETS[intermediate_solution], axis=0))\n",
    "\n",
    "    return intermediate_solution_coverage, -intermediate_solution_cost\n",
    "\n",
    "\n",
    "# Initializes the solution to be improved\n",
    "cur_solution = initial_solution\n",
    "solutions = []\n",
    "# Initializes a list containing the history of fitness of\n",
    "# the intermediate solutions\n",
    "history = [fitness(cur_solution)]\n",
    "histories = [history]\n",
    "\n",
    "# Applies the Hill Climber algorithm\n",
    "for step in tqdm(range(NUM_STEPS)):\n",
    "    new_solution = tweak(cur_solution.copy())\n",
    "    history.append(fitness(new_solution))\n",
    "\n",
    "    if fitness(new_solution) > fitness(cur_solution):\n",
    "        cur_solution = new_solution\n",
    "\n",
    "    if step - list(accumulate(histories[-1], max)).index(fitness(cur_solution)) > NUM_STEPS // 10:\n",
    "        solutions.append(cur_solution)\n",
    "        cur_solution = initial_solution\n",
    "        history = [fitness(cur_solution)]\n",
    "        histories.append(history)\n",
    "\n",
    "max([fitness(solution) for solution in solutions])"
   ],
   "outputs": [
    {
     "name": "stderr",
     "output_type": "stream",
     "text": [
      "100%|██████████| 10000/10000 [00:53<00:00, 185.88it/s]\n"
     ]
    },
    {
     "data": {
      "text/plain": [
       "(100000, np.float64(-2152456.6786956503))"
      ]
     },
     "execution_count": 348,
     "metadata": {},
     "output_type": "execute_result"
    }
   ],
   "execution_count": 348
  }
 ],
 "metadata": {
  "kernelspec": {
   "display_name": "Python 3 (ipykernel)",
   "language": "python",
   "name": "python3"
  },
  "language_info": {
   "codemirror_mode": {
    "name": "ipython",
    "version": 3
   },
   "file_extension": ".py",
   "mimetype": "text/x-python",
   "name": "python",
   "nbconvert_exporter": "python",
   "pygments_lexer": "ipython3",
   "version": "3.12.5"
  }
 },
 "nbformat": 4,
 "nbformat_minor": 4
}
